{
 "cells": [
  {
   "cell_type": "code",
   "execution_count": 1,
   "id": "49e3fd5a",
   "metadata": {},
   "outputs": [
    {
     "data": {
      "text/plain": [
       "hydrogen_wavefunction (generic function with 1 method)"
      ]
     },
     "execution_count": 1,
     "metadata": {},
     "output_type": "execute_result"
    }
   ],
   "source": [
    "using SpecialFunctions\n",
    "\n",
    "function hydrogen_wavefunction(n, l, m, r, θ, ϕ)\n",
    "    a0 = 1.0  # You can adjust the value of a0 as needed\n",
    "\n",
    "    coeff = sqrt((2 / (n * a0))^3 * factorial(n - l - 1) / (2 * n * factorial(n + l)))\n",
    "\n",
    "    laguerre_poly = laguerre(2 * r / (n * a0), n - l - 1, 2 * l + 1)\n",
    "\n",
    "    u = coeff * exp(-r / (n * a0)) * (2 * r / (n * a0))^l * laguerre_poly\n",
    "\n",
    "    psi = u * spherical_harmonic(l, m, θ, ϕ)\n",
    "\n",
    "    return psi\n",
    "end"
   ]
  },
  {
   "cell_type": "code",
   "execution_count": 3,
   "id": "383b8812",
   "metadata": {},
   "outputs": [
    {
     "ename": "LoadError",
     "evalue": "PyError (PyImport_ImportModule\n\nThe Python package scipy.special could not be imported by pyimport. Usually this means\nthat you did not install scipy.special in the Python version being used by PyCall.\n\nPyCall is currently configured to use the Julia-specific Python distribution\ninstalled by the Conda.jl package.  To install the scipy.special module, you can\nuse `pyimport_conda(\"scipy.special\", PKG)`, where PKG is the Anaconda\npackage that contains the module scipy.special, or alternatively you can use the\nConda package directly (via `using Conda` followed by `Conda.add` etcetera).\n\nAlternatively, if you want to use a different Python distribution on your\nsystem, such as a system-wide Python (as opposed to the Julia-specific Python),\nyou can re-configure PyCall with that Python.   As explained in the PyCall\ndocumentation, set ENV[\"PYTHON\"] to the path/name of the python executable\nyou want to use, run Pkg.build(\"PyCall\"), and re-launch Julia.\n\n) <class 'ModuleNotFoundError'>\nModuleNotFoundError(\"No module named 'scipy'\")\n",
     "output_type": "error",
     "traceback": [
      "PyError (PyImport_ImportModule\n\nThe Python package scipy.special could not be imported by pyimport. Usually this means\nthat you did not install scipy.special in the Python version being used by PyCall.\n\nPyCall is currently configured to use the Julia-specific Python distribution\ninstalled by the Conda.jl package.  To install the scipy.special module, you can\nuse `pyimport_conda(\"scipy.special\", PKG)`, where PKG is the Anaconda\npackage that contains the module scipy.special, or alternatively you can use the\nConda package directly (via `using Conda` followed by `Conda.add` etcetera).\n\nAlternatively, if you want to use a different Python distribution on your\nsystem, such as a system-wide Python (as opposed to the Julia-specific Python),\nyou can re-configure PyCall with that Python.   As explained in the PyCall\ndocumentation, set ENV[\"PYTHON\"] to the path/name of the python executable\nyou want to use, run Pkg.build(\"PyCall\"), and re-launch Julia.\n\n) <class 'ModuleNotFoundError'>\nModuleNotFoundError(\"No module named 'scipy'\")\n",
      "",
      "Stacktrace:",
      " [1] pyimport(name::String)",
      "   @ PyCall C:\\Users\\Arif\\.julia\\packages\\PyCall\\ilqDX\\src\\PyCall.jl:558",
      " [2] top-level scope",
      "   @ In[3]:10"
     ]
    }
   ],
   "source": [
    "m=1\n",
    "l=1\n",
    "PHI=1\n",
    "TH=1\n",
    "# Assuming m, l, PHI, and TH are already defined\n",
    "using PyCall\n",
    "\n",
    "# Assuming m, l, PHI, and TH are already defined\n",
    "\n",
    "scipy_special = pyimport(\"scipy.special\")\n",
    "Yml = scipy_special.sph_harm(m, l, PHI, TH)"
   ]
  },
  {
   "cell_type": "code",
   "execution_count": null,
   "id": "9007fa61",
   "metadata": {},
   "outputs": [],
   "source": []
  }
 ],
 "metadata": {
  "kernelspec": {
   "display_name": "Julia 1.8.5",
   "language": "julia",
   "name": "julia-1.8"
  },
  "language_info": {
   "file_extension": ".jl",
   "mimetype": "application/julia",
   "name": "julia",
   "version": "1.8.5"
  }
 },
 "nbformat": 4,
 "nbformat_minor": 5
}
