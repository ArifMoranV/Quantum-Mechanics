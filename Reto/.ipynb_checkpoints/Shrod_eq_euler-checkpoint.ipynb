{
 "cells": [
  {
   "cell_type": "code",
   "execution_count": 1,
   "id": "8b2ef36d",
   "metadata": {},
   "outputs": [],
   "source": [
    "import numpy as np\n",
    "from matplotlib import pyplot as plt\n",
    "from matplotlib import cm"
   ]
  },
  {
   "cell_type": "code",
   "execution_count": 48,
   "id": "e8044754",
   "metadata": {},
   "outputs": [],
   "source": [
    "dt = 0.05\n",
    "dx=(dt**2)/4\n",
    "ti=-10\n",
    "tf=10\n",
    "xf=20\n",
    "ts=np.arange(ti,tf,dt)\n",
    "xs=np.arange(0,xf,dx)\n",
    "Nx=len(xs)\n",
    "N=len(ts)\n",
    "\n",
    "T,X=np.meshgrid(ts,xs)\n",
    "\n",
    "\n"
   ]
  },
  {
   "cell_type": "code",
   "execution_count": 49,
   "id": "a006cdb4-d35b-49c9-bade-46017e76ca17",
   "metadata": {},
   "outputs": [],
   "source": [
    "#########################Condiciones iniciales\n",
    "#u0=np.sin(ts)\n",
    "#u0=np.exp(-ts**2)\n",
    "u0=1/np.cosh(ts)\n",
    "us=np.ones((Nx,N))*0j\n",
    "us[0]=u0"
   ]
  },
  {
   "cell_type": "code",
   "execution_count": 50,
   "id": "093fa2dc-6ef2-4670-af2d-21d153a53ff2",
   "metadata": {},
   "outputs": [],
   "source": [
    "\n",
    "#us=np.vstack((us,u0+dt*f(u0)))\n",
    "us[1]=u0+dx*f(u0)\n",
    "###us[1]=us[0]+(dt/6)*()\n",
    "for i in range(1,Nx-1):\n",
    "    #us=np.vstack((us,2*dt*f(us[i])+us[i-1]))\n",
    "    us[i+1]=(2*dx*f(us[i])+us[i-1])\n",
    "\n",
    "#fig, ax = plt.subplots(subplot_kw={\"projection\": \"3d\"})\n",
    "#ax.scatter(T,X,us)\n",
    "#surf=ax.plot_surface(T, X, np.real(us),cmap=cm.coolwarm,\n",
    "                       #linewidth=0, antialiased=False)\n",
    "\n"
   ]
  },
  {
   "cell_type": "markdown",
   "id": "48ad3d25-e628-48c8-afa9-3834fb324fb4",
   "metadata": {},
   "source": [
    "# Graficar"
   ]
  },
  {
   "cell_type": "code",
   "execution_count": 51,
   "id": "2aa724e6-a6a1-4828-8e00-e8a0cc5ee286",
   "metadata": {
    "scrolled": true
   },
   "outputs": [
    {
     "data": {
      "image/png": "[encoded data removed]",
      "text/plain": [
       "<Figure size 640x480 with 2 Axes>"
      ]
     },
     "metadata": {},
     "output_type": "display_data"
    }
   ],
   "source": [
    "surf=plt.contourf(T,X,abs(us),levels=100,cmap='inferno')\n",
    "plt.colorbar(surf)\n",
    "plt.xlabel(\"tiempo\")\n",
    "plt.xlim([ti,tf])\n",
    "plt.ylim([0,xf])\n",
    "plt.ylabel(\"espacio x\")\n",
    "#plt.axis('equal')\n",
    "plt.show()"
   ]
  },
  {
   "cell_type": "markdown",
   "id": "09bbd5ea-c0b4-48c8-9931-b461e444899e",
   "metadata": {},
   "source": [
    "$$i\\hbar\\frac{\\partial \\Psi}{\\partial t}=-\\frac{\\hbar^2}{2m}\\frac{\\partial^2\\Psi}{\\partial x^2}+V(x)\\Psi$$\n",
    "$$\\frac{\\partial \\Psi}{\\partial t}=i\\frac{\\hbar}{2m}\\frac{\\partial^2\\Psi}{\\partial x^2}-\\frac{i}{\\hbar}V(x)\\Psi$$"
   ]
  },
  {
   "cell_type": "code",
   "execution_count": 53,
   "id": "729253d8-8604-46d7-969f-04d41094aa44",
   "metadata": {},
   "outputs": [],
   "source": [
    "def V(xs):\n",
    "    return (1/2*w^2*m*x**2) ###derivada de tiempo 2"
   ]
  },
  {
   "cell_type": "code",
   "execution_count": null,
   "id": "3c702e38-bc81-4d8b-9b55-6c3e08796d75",
   "metadata": {},
   "outputs": [],
   "source": [
    "def f(u,xs):#LSE\n",
    "    return (1j*h/2m)*df2(u,dt)-(1j/h)(V(xs)) ###derivada de tiempo 2"
   ]
  },
  {
   "cell_type": "code",
   "execution_count": 9,
   "id": "971fcdfc",
   "metadata": {},
   "outputs": [],
   "source": [
    "def f(u):##NLSE\n",
    "    return 1j*((u)*np.conj(u)*u+(1/2)*df2(u,dt)) ###derivada de tiempo 2"
   ]
  },
  {
   "cell_type": "code",
   "execution_count": 10,
   "id": "09daf0b2",
   "metadata": {},
   "outputs": [],
   "source": [
    "#def f(u):\n",
    "    #return 1j*((u)*np.conj(u)*u+(1/2)*df(df(u,dt),dt)) ###derivada de tiempo 2"
   ]
  },
  {
   "cell_type": "markdown",
   "id": "4c37ab85-c2c5-4af4-90d8-1620d2e053f6",
   "metadata": {},
   "source": [
    "# Diferencias finitas centrada para segundo orden"
   ]
  },
  {
   "cell_type": "code",
   "execution_count": 11,
   "id": "04966d1d",
   "metadata": {},
   "outputs": [],
   "source": [
    "def df2(y,dt):\n",
    "    N=len(y)\n",
    "    yp=y*0\n",
    "    for i in range(1,N-1):\n",
    "        yp[i]=(y[i+1]-2*y[i]+y[i-1])/dt**2\n",
    "    yp[0]=yp[1]\n",
    "    yp[-1]=yp[-2]\n",
    "    return yp"
   ]
  },
  {
   "cell_type": "code",
   "execution_count": 177,
   "id": "b9ba844f",
   "metadata": {},
   "outputs": [],
   "source": [
    "#def df(y,dt):\n",
    "  #  t=np.arange(ti,tf,dt)\n",
    "   # n=len(y)\n",
    "    #v1=np.ones(n-1)*(1/2)\n",
    "    #v2=np.ones(n-1)*(-1/2)\n",
    "    #D=(np.diag(v1,k=1)+np.diag(v2,k=-1))/dt\n",
    "    #yp=np.matmul(D, y)\n",
    "    #yp[0]=yp[1]\n",
    "    #yp[-1]=yp[-2]\n",
    "    #return yp"
   ]
  },
  {
   "cell_type": "code",
   "execution_count": null,
   "id": "f07bfd12",
   "metadata": {},
   "outputs": [],
   "source": []
  }
 ],
 "metadata": {
  "kernelspec": {
   "display_name": "Python 3 (ipykernel)",
   "language": "python",
   "name": "python3"
  },
  "language_info": {
   "codemirror_mode": {
    "name": "ipython",
    "version": 3
   },
   "file_extension": ".py",
   "mimetype": "text/x-python",
   "name": "python",
   "nbconvert_exporter": "python",
   "pygments_lexer": "ipython3",
   "version": "3.8.17"
  }
 },
 "nbformat": 4,
 "nbformat_minor": 5
}
